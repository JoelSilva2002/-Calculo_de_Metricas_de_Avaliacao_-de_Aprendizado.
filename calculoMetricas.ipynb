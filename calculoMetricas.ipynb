{
  "nbformat": 4,
  "nbformat_minor": 0,
  "metadata": {
    "colab": {
      "provenance": [],
      "authorship_tag": "ABX9TyM0WqVQaf8b6O39lNdA2dNV",
      "include_colab_link": true
    },
    "kernelspec": {
      "name": "python3",
      "display_name": "Python 3"
    },
    "language_info": {
      "name": "python"
    }
  },
  "cells": [
    {
      "cell_type": "markdown",
      "metadata": {
        "id": "view-in-github",
        "colab_type": "text"
      },
      "source": [
        "<a href=\"https://colab.research.google.com/github/JoelSilva2002/-Calculo_de_Metricas_de_Avaliacao_-de_Aprendizado./blob/main/calculoMetricas.ipynb\" target=\"_parent\"><img src=\"https://colab.research.google.com/assets/colab-badge.svg\" alt=\"Open In Colab\"/></a>"
      ]
    },
    {
      "cell_type": "code",
      "execution_count": 1,
      "metadata": {
        "id": "y3DAB81KA7FR"
      },
      "outputs": [],
      "source": [
        "from tensorflow.keras import datasets, layers, models\n",
        "import matplotlib.pyplot as plt\n",
        "import tensorflow as tf\n",
        "import numpy as np\n",
        "import seaborn as sns\n",
        "import pandas as pd"
      ]
    },
    {
      "cell_type": "code",
      "source": [
        "%load_ext tensorboard"
      ],
      "metadata": {
        "id": "_9fZUC0eBjuM"
      },
      "execution_count": 3,
      "outputs": []
    },
    {
      "cell_type": "code",
      "source": [
        "logdir='log'"
      ],
      "metadata": {
        "id": "WlczoySMBsi6"
      },
      "execution_count": 4,
      "outputs": []
    },
    {
      "cell_type": "code",
      "source": [
        "(train_images, train_labels), (test_images, test_labels) = datasets.mnist.load_data()\n",
        "\n",
        "train_images = train_images.reshape((60000, 28, 28, 1))\n",
        "test_images = test_images.reshape((10000, 28, 28, 1))\n",
        "\n",
        "train_images, test_images = train_images / 255.0, test_images / 255.0\n",
        "\n",
        "classes=[0,1,2,3,4,5,6,7,8,9]"
      ],
      "metadata": {
        "id": "_NHL9nmuByyt"
      },
      "execution_count": 11,
      "outputs": []
    },
    {
      "cell_type": "code",
      "source": [
        "model = models.Sequential()\n",
        "model.add(layers.Conv2D(32,(3, 3), activation='relu', input_shape=(28, 28, 1)))\n",
        "model.add(layers.MaxPooling2D((2, 2)))\n",
        "model.add(layers.Conv2D(64, (3, 3), activation='relu'))\n",
        "model.add(layers.MaxPooling2D((2, 2)))\n",
        "model.add(layers.Conv2D(64, (3, 3), activation='relu'))\n",
        "\n",
        "model.add(layers.Flatten())\n",
        "model.add(layers.Dense(64, activation='relu'))\n",
        "model.add(layers.Dense(10, activation='softmax'))"
      ],
      "metadata": {
        "colab": {
          "base_uri": "https://localhost:8080/"
        },
        "id": "T1uZRjFQC4Z-",
        "outputId": "3e1d8f35-b5c5-4c11-fb80-5babcdddf9b0"
      },
      "execution_count": 6,
      "outputs": [
        {
          "output_type": "stream",
          "name": "stderr",
          "text": [
            "/usr/local/lib/python3.12/dist-packages/keras/src/layers/convolutional/base_conv.py:113: UserWarning: Do not pass an `input_shape`/`input_dim` argument to a layer. When using Sequential models, prefer using an `Input(shape)` object as the first layer in the model instead.\n",
            "  super().__init__(activity_regularizer=activity_regularizer, **kwargs)\n"
          ]
        }
      ]
    },
    {
      "cell_type": "code",
      "source": [
        "tensorboard_callback = tf.keras.callbacks.TensorBoard(logdir, histogram_freq=1)"
      ],
      "metadata": {
        "id": "0gYf-f5xDvQh"
      },
      "execution_count": 7,
      "outputs": []
    },
    {
      "cell_type": "code",
      "source": [
        "model.compile(optimizer='adam',\n",
        "              loss='sparse_categorical_crossentropy',\n",
        "              metrics=['accuracy'])\n",
        "\n",
        "model.fit(x=train_images,\n",
        "          y=train_labels,\n",
        "          epochs=6,\n",
        "          validation_data=(test_images, test_labels),\n",
        "          callbacks=[tensorboard_callback])"
      ],
      "metadata": {
        "colab": {
          "base_uri": "https://localhost:8080/"
        },
        "id": "BOzNv3LLD-Wm",
        "outputId": "2349ed0c-1c5d-499c-f607-34fc6acb51ee"
      },
      "execution_count": 12,
      "outputs": [
        {
          "output_type": "stream",
          "name": "stdout",
          "text": [
            "Epoch 1/6\n",
            "\u001b[1m1875/1875\u001b[0m \u001b[32m━━━━━━━━━━━━━━━━━━━━\u001b[0m\u001b[37m\u001b[0m \u001b[1m71s\u001b[0m 37ms/step - accuracy: 0.8973 - loss: 0.3244 - val_accuracy: 0.9804 - val_loss: 0.0622\n",
            "Epoch 2/6\n",
            "\u001b[1m1875/1875\u001b[0m \u001b[32m━━━━━━━━━━━━━━━━━━━━\u001b[0m\u001b[37m\u001b[0m \u001b[1m81s\u001b[0m 37ms/step - accuracy: 0.9850 - loss: 0.0476 - val_accuracy: 0.9850 - val_loss: 0.0464\n",
            "Epoch 3/6\n",
            "\u001b[1m1875/1875\u001b[0m \u001b[32m━━━━━━━━━━━━━━━━━━━━\u001b[0m\u001b[37m\u001b[0m \u001b[1m67s\u001b[0m 36ms/step - accuracy: 0.9902 - loss: 0.0310 - val_accuracy: 0.9899 - val_loss: 0.0320\n",
            "Epoch 4/6\n",
            "\u001b[1m1875/1875\u001b[0m \u001b[32m━━━━━━━━━━━━━━━━━━━━\u001b[0m\u001b[37m\u001b[0m \u001b[1m67s\u001b[0m 36ms/step - accuracy: 0.9925 - loss: 0.0231 - val_accuracy: 0.9925 - val_loss: 0.0262\n",
            "Epoch 5/6\n",
            "\u001b[1m1875/1875\u001b[0m \u001b[32m━━━━━━━━━━━━━━━━━━━━\u001b[0m\u001b[37m\u001b[0m \u001b[1m63s\u001b[0m 33ms/step - accuracy: 0.9947 - loss: 0.0167 - val_accuracy: 0.9900 - val_loss: 0.0321\n",
            "Epoch 6/6\n",
            "\u001b[1m1875/1875\u001b[0m \u001b[32m━━━━━━━━━━━━━━━━━━━━\u001b[0m\u001b[37m\u001b[0m \u001b[1m81s\u001b[0m 33ms/step - accuracy: 0.9949 - loss: 0.0149 - val_accuracy: 0.9911 - val_loss: 0.0308\n"
          ]
        },
        {
          "output_type": "execute_result",
          "data": {
            "text/plain": [
              "<keras.src.callbacks.history.History at 0x7d41d513cef0>"
            ]
          },
          "metadata": {},
          "execution_count": 12
        }
      ]
    },
    {
      "cell_type": "code",
      "source": [
        "y_true=test_labels\n",
        "y_pred=np.argmax(model.predict(test_images), axis=-1)"
      ],
      "metadata": {
        "colab": {
          "base_uri": "https://localhost:8080/"
        },
        "id": "jB7hPHgRG6nb",
        "outputId": "6b3791b7-1818-4917-dcec-b185d753c186"
      },
      "execution_count": 14,
      "outputs": [
        {
          "output_type": "stream",
          "name": "stdout",
          "text": [
            "\u001b[1m313/313\u001b[0m \u001b[32m━━━━━━━━━━━━━━━━━━━━\u001b[0m\u001b[37m\u001b[0m \u001b[1m3s\u001b[0m 9ms/step\n"
          ]
        }
      ]
    },
    {
      "cell_type": "code",
      "source": [
        "classes = [0,1,2,3,4,5,6,7,8,9]"
      ],
      "metadata": {
        "id": "kQWF0pv0HUvi"
      },
      "execution_count": 15,
      "outputs": []
    },
    {
      "cell_type": "code",
      "source": [
        "con_mat = tf.math.confusion_matrix(labels=y_true, predictions=y_pred).numpy()\n",
        "con_mat_norm = np.around(con_mat.astype('float') / con_mat.sum(axis=1)[:, np.newaxis], decimals=2)\n",
        "con_mat_df = pd.DataFrame(con_mat_norm,\n",
        "                          index=classes,\n",
        "                          columns=classes)\n",
        "\n",
        "figure = plt.figure(figsize=(8, 8))\n",
        "sns.heatmap(con_mat_df, annot=True,cmap=plt.cm.Blues)\n",
        "plt.tight_layout()\n",
        "plt.ylabel('True label')\n",
        "plt.xlabel('Predicted label')\n",
        "plt.show()"
      ],
      "metadata": {
        "colab": {
          "base_uri": "https://localhost:8080/",
          "height": 826
        },
        "id": "Dcz9X0AXHb1d",
        "outputId": "b5103209-1ddc-420f-bbfd-efdce25f3015"
      },
      "execution_count": 16,
      "outputs": [
        {
          "output_type": "display_data",
          "data": {
            "text/plain": [
              "<Figure size 800x800 with 2 Axes>"
            ],
            "image/png": "[encoded data removed]"
          },
          "metadata": {}
        }
      ]
    },
    {
      "cell_type": "code",
      "source": [
        "# Convertendo matriz de confusão em valores básicos\n",
        "VP = np.diag(con_mat)  # Verdadeiros positivos (diagonal)\n",
        "FP = np.sum(con_mat, axis=0) - VP  # Falsos positivos\n",
        "FN = np.sum(con_mat, axis=1) - VP  # Falsos negativos\n",
        "VN = np.sum(con_mat) - (FP + FN + VP)  # Verdadeiros negativos"
      ],
      "metadata": {
        "id": "AlF0jRzyJZsz"
      },
      "execution_count": 17,
      "outputs": []
    },
    {
      "cell_type": "code",
      "source": [
        "# Calculando as métricas para cada classe\n",
        "sensibilidade = VP / (VP + FN)   # Recall\n",
        "especificidade = VN / (VN + FP)\n",
        "acuracia = np.sum(VP) / np.sum(con_mat)\n",
        "precisao = VP / (VP + FP)\n",
        "fscore = 2 * (precisao * sensibilidade) / (precisao + sensibilidade)"
      ],
      "metadata": {
        "id": "9Dde7BXoJf1d"
      },
      "execution_count": 18,
      "outputs": []
    },
    {
      "cell_type": "code",
      "source": [
        "# Exibindo como tabela\n",
        "metricas_df = pd.DataFrame({\n",
        "    'Classe': classes,\n",
        "    'Sensibilidade (Recall)': np.round(sensibilidade, 3),\n",
        "    'Especificidade': np.round(especificidade, 3),\n",
        "    'Precisão': np.round(precisao, 3),\n",
        "    'F1-Score': np.round(fscore, 3)\n",
        "})\n",
        "\n",
        "print(\"\\n=== MÉTRICAS POR CLASSE ===\")\n",
        "print(metricas_df)\n",
        "\n",
        "print(f\"\\nAcurácia geral: {acuracia:.3f}\")"
      ],
      "metadata": {
        "colab": {
          "base_uri": "https://localhost:8080/"
        },
        "id": "sntjtFVJJiXE",
        "outputId": "963bba0f-57e2-4b3c-a64d-237d2bab3102"
      },
      "execution_count": 19,
      "outputs": [
        {
          "output_type": "stream",
          "name": "stdout",
          "text": [
            "\n",
            "=== MÉTRICAS POR CLASSE ===\n",
            "   Classe  Sensibilidade (Recall)  Especificidade  Precisão  F1-Score\n",
            "0       0                   0.998           0.999     0.989     0.993\n",
            "1       1                   0.993           0.999     0.996     0.994\n",
            "2       2                   0.993           0.999     0.994     0.994\n",
            "3       3                   0.995           0.998     0.980     0.988\n",
            "4       4                   0.995           0.999     0.992     0.993\n",
            "5       5                   0.985           0.999     0.988     0.987\n",
            "6       6                   0.987           1.000     0.998     0.993\n",
            "7       7                   0.989           0.999     0.992     0.991\n",
            "8       8                   0.991           0.999     0.991     0.991\n",
            "9       9                   0.983           0.999     0.991     0.987\n",
            "\n",
            "Acurácia geral: 0.991\n"
          ]
        }
      ]
    }
  ]
}